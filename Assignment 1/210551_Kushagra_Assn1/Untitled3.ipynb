{
  "nbformat": 4,
  "nbformat_minor": 0,
  "metadata": {
    "colab": {
      "provenance": []
    },
    "kernelspec": {
      "name": "python3",
      "display_name": "Python 3"
    },
    "language_info": {
      "name": "python"
    }
  },
  "cells": [
    {
      "cell_type": "code",
      "source": [
        "import yfinance as yf\n",
        "import pandas as pd\n",
        "import numpy as np\n",
        "\n",
        "# Define the indices and equities\n",
        "indices = ['^GSPC', '^IXIC', '^DJI', '^FTSE', '^N225']\n",
        "equities = ['AAPL', 'GOOGL', 'MSFT', 'AMZN', 'FB']\n",
        "\n",
        "# Load the daily data since \"2010-01-01\"\n",
        "start_date = \"2010-01-01\"\n",
        "data = yf.download(indices + equities, start=start_date)\n",
        "\n",
        "# Extract the adjusted closing prices\n",
        "adj_close = data['Adj Close']\n",
        "\n",
        "# Compute the daily returns\n",
        "returns = adj_close.pct_change()\n",
        "\n",
        "# Compute cumulative returns\n",
        "cumulative_returns = (1 + returns).cumprod()\n",
        "\n",
        "# Compute max drawdowns\n",
        "rolling_max = cumulative_returns.rolling(window=252, min_periods=1).max()\n",
        "daily_drawdown = cumulative_returns / rolling_max - 1\n",
        "max_drawdown = daily_drawdown.min()\n",
        "\n",
        "# Compute the Sharpe ratio\n",
        "risk_free_rate = 0.0  # Assuming risk-free rate of 0%\n",
        "daily_returns_excess = returns - risk_free_rate / 252  # Adjust for risk-free rate\n",
        "sharpe_ratio = np.sqrt(252) * (daily_returns_excess.mean() / daily_returns_excess.std())\n",
        "\n",
        "# Compute the Sortino ratio\n",
        "downside_returns = returns.copy()\n",
        "downside_returns[returns > 0] = 0  # Set positive returns to 0\n",
        "downside_std = np.sqrt(252) * downside_returns.std()\n",
        "sortino_ratio = (daily_returns_excess.mean() / downside_std)\n",
        "\n",
        "# Display the results\n",
        "results = pd.DataFrame({\n",
        "    'Cumulative Returns': cumulative_returns.iloc[-1],\n",
        "    'Max Drawdown': max_drawdown,\n",
        "    'Sharpe Ratio': sharpe_ratio,\n",
        "    'Sortino Ratio': sortino_ratio,\n",
        "})\n",
        "\n",
        "# Print the results for indices\n",
        "print(\"Indices:\")\n",
        "print(results.loc[indices])\n",
        "\n",
        "# Print the results for equities\n",
        "print(\"Equities:\")\n",
        "print(results.loc[equities])\n"
      ],
      "metadata": {
        "colab": {
          "base_uri": "https://localhost:8080/"
        },
        "id": "tWLv30BO5eTK",
        "outputId": "2895f7b4-7319-43d1-879a-a508b5032357"
      },
      "execution_count": 2,
      "outputs": [
        {
          "output_type": "stream",
          "name": "stdout",
          "text": [
            "[*********************100%***********************]  10 of 10 completed\n",
            "\n",
            "1 Failed download:\n",
            "- FB: No timezone found, symbol may be delisted\n",
            "Indices:\n",
            "       Cumulative Returns  Max Drawdown  Sharpe Ratio  Sortino Ratio\n",
            "^GSPC            3.694101     -0.339250      0.630244       0.003852\n",
            "^IXIC            5.481581     -0.357221      0.710626       0.004397\n",
            "^DJI             3.158884     -0.370862      0.578492       0.003517\n",
            "^FTSE            1.407614     -0.350311      0.235202       0.001447\n",
            "^N225            2.869501     -0.312690      0.479857       0.003037\n",
            "Equities:\n",
            "       Cumulative Returns  Max Drawdown  Sharpe Ratio  Sortino Ratio\n",
            "AAPL            26.872241     -0.437972      0.989358       0.006534\n",
            "GOOGL            7.839620     -0.443201      0.689245       0.004567\n",
            "MSFT            13.470432     -0.371485      0.862534       0.005719\n",
            "AMZN            17.560866     -0.518826      0.799438       0.005355\n",
            "FB                    NaN           NaN           NaN            NaN\n"
          ]
        }
      ]
    }
  ]
}